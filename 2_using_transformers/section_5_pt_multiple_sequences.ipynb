{
 "cells": [
  {
   "attachments": {},
   "cell_type": "markdown",
   "metadata": {},
   "source": [
    "# Handling multiple sequences (PyTorch)"
   ]
  },
  {
   "attachments": {},
   "cell_type": "markdown",
   "metadata": {},
   "source": [
    "The explanation of this notebook is in the Hugging Face course, chapter 2, section 5: [Handling multiple sequences](https://huggingface.co/course/chapter2/5?fw=pt)\n",
    "\n",
    "The original code of this notebook is in the Hugging Face's SageMaker repository: [section5_pt.ipynb](https://studiolab.sagemaker.aws/import/github/huggingface/notebooks/blob/master/course/en/chapter2/section5_pt.ipynb)"
   ]
  },
  {
   "attachments": {},
   "cell_type": "markdown",
   "metadata": {},
   "source": [
    "## Run conditions"
   ]
  },
  {
   "attachments": {},
   "cell_type": "markdown",
   "metadata": {},
   "source": [
    "This notebook has been tested in the following environment:\n",
    "- Environment: Project created in [Paperspace Gradient](https://gradient.paperspace.com) with Python 3.9.13.\n",
    "- Machine: P5000 (30GiB RAM 8 CPU 16GiB GPU) (more details on [Paperspace Machines](https://docs.paperspace.com/gradient/machines/)).\n",
    "- IDE: Visual Studio Code using remote Jupyter server."
   ]
  },
  {
   "attachments": {},
   "cell_type": "markdown",
   "metadata": {},
   "source": [
    "## Install dependencies"
   ]
  },
  {
   "attachments": {},
   "cell_type": "markdown",
   "metadata": {},
   "source": [
    "Install the Transformers, Datasets, and Evaluate libraries to run this notebook."
   ]
  },
  {
   "cell_type": "code",
   "execution_count": 1,
   "metadata": {
    "vscode": {
     "languageId": "python"
    }
   },
   "outputs": [
    {
     "name": "stdout",
     "output_type": "stream",
     "text": [
      "\u001b[33mWARNING: Running pip as the 'root' user can result in broken permissions and conflicting behaviour with the system package manager. It is recommended to use a virtual environment instead: https://pip.pypa.io/warnings/venv\u001b[0m\u001b[33m\n",
      "\u001b[0mNote: you may need to restart the kernel to use updated packages.\n"
     ]
    }
   ],
   "source": [
    "# Install the libraries datasets v2.7.1, evaluate v0.3.0, and transformers v4.25.1 with quiet and upgrade flags.\n",
    "%pip install -q datasets==2.7.1 evaluate==0.3.0 transformers==4.25.1 --upgrade"
   ]
  },
  {
   "cell_type": "code",
   "execution_count": 2,
   "metadata": {
    "vscode": {
     "languageId": "python"
    }
   },
   "outputs": [
    {
     "name": "stdout",
     "output_type": "stream",
     "text": [
      "tensor([[  101,  1045,  1005,  2310,  2042,  3403,  2005,  1037, 17662, 12172,\n",
      "          2607,  2026,  2878,  2166,  1012,   102]])\n"
     ]
    }
   ],
   "source": [
    "# Import PyTorch, and AutoTokenizer and AutoModelForSequenceClassification from Transformers.\n",
    "import torch\n",
    "from transformers import AutoTokenizer, AutoModelForSequenceClassification\n",
    "\n",
    "# Create a checkpoint from the model name.\n",
    "checkpoint = \"distilbert-base-uncased-finetuned-sst-2-english\"\n",
    "# Create a tokenizer from the checkpoint.\n",
    "tokenizer = AutoTokenizer.from_pretrained(checkpoint)\n",
    "# Create a model from the checkpoint.\n",
    "model = AutoModelForSequenceClassification.from_pretrained(checkpoint)\n",
    "# Create a sentence.\n",
    "sentence = \"I've been waiting for a HuggingFace course my whole life.\"\n",
    "# Create tokens from the sentence.\n",
    "tokens = tokenizer(sentence, return_tensors=\"pt\")\n",
    "# Print input IDs.\n",
    "print(tokens.input_ids)\n"
   ]
  },
  {
   "cell_type": "code",
   "execution_count": 3,
   "metadata": {
    "vscode": {
     "languageId": "python"
    }
   },
   "outputs": [
    {
     "name": "stdout",
     "output_type": "stream",
     "text": [
      "Input IDs: tensor([[ 1045,  1005,  2310,  2042,  3403,  2005,  1037, 17662, 12172,  2607,\n",
      "          2026,  2878,  2166,  1012]])\n",
      "Logits: tensor([[-2.7276,  2.8789]], grad_fn=<AddmmBackward0>)\n"
     ]
    }
   ],
   "source": [
    "# Import PyTorch, and AutoTokenizer and AutoModelForSequenceClassification from Transformers.\n",
    "import torch\n",
    "from transformers import AutoTokenizer, AutoModelForSequenceClassification\n",
    "\n",
    "# Create a checkpoint from the model name.\n",
    "checkpoint = \"distilbert-base-uncased-finetuned-sst-2-english\"\n",
    "# Create a tokenizer from the checkpoint.\n",
    "tokenizer = AutoTokenizer.from_pretrained(checkpoint)\n",
    "# Create a model from the checkpoint.\n",
    "model = AutoModelForSequenceClassification.from_pretrained(checkpoint)\n",
    "# Create a sentence.\n",
    "sentence = \"I've been waiting for a HuggingFace course my whole life.\"\n",
    "# Create tokens from the sentence using tokenize method.\n",
    "tokens = tokenizer.tokenize(sentence)\n",
    "# Create input IDs from the tokens.\n",
    "input_ids = tokenizer.convert_tokens_to_ids(tokens)\n",
    "# Create a tensor from the input IDs, adding a dimension to the top because these tokens only have a sequence length of 1.\n",
    "input_ids = torch.tensor([input_ids])\n",
    "# Print input IDs with the text: \"Input IDs: \".\n",
    "print(\"Input IDs:\", input_ids)\n",
    "# Create the logits from the model and the input IDs.\n",
    "logits = model(input_ids).logits\n",
    "# Print logits with the text: \"Logits: \".\n",
    "print(\"Logits:\", logits)"
   ]
  },
  {
   "attachments": {},
   "cell_type": "markdown",
   "metadata": {},
   "source": [
    "## Padding the inputs"
   ]
  },
  {
   "cell_type": "code",
   "execution_count": 4,
   "metadata": {
    "vscode": {
     "languageId": "python"
    }
   },
   "outputs": [
    {
     "name": "stdout",
     "output_type": "stream",
     "text": [
      "Batched IDs: [[200, 200, 200], [200, 200]]\n"
     ]
    }
   ],
   "source": [
    "# Create batched_id list wit 2 lists. The first list contains the value 200 repeated 3 times and the second list contains the value 200 repeated 2 times.\n",
    "batched_ids = [[200] * 3, [200] * 2]\n",
    "# Print batched_ids with the text: \"Batched IDs: \".\n",
    "print(\"Batched IDs:\", batched_ids)"
   ]
  },
  {
   "cell_type": "code",
   "execution_count": 5,
   "metadata": {
    "vscode": {
     "languageId": "python"
    }
   },
   "outputs": [
    {
     "name": "stdout",
     "output_type": "stream",
     "text": [
      "Batched IDs: [[200, 200, 200], [200, 200, 100]]\n"
     ]
    }
   ],
   "source": [
    "# Set padding_id to 100.\n",
    "padding_id = 100\n",
    "# Create the batched_ids list. The first list contains the value 200 repeated 3 times and the second list contains the value 200 repeated 2 times and the padding_id repeated 1 time.\n",
    "batched_ids = [[200] * 3, [200] * 2 + [padding_id]]\n",
    "# Print batched_ids with the text: \"Batched IDs: \".\n",
    "print(\"Batched IDs:\", batched_ids)"
   ]
  },
  {
   "cell_type": "code",
   "execution_count": 6,
   "metadata": {
    "vscode": {
     "languageId": "python"
    }
   },
   "outputs": [
    {
     "name": "stdout",
     "output_type": "stream",
     "text": [
      "Logits of sentence 1: tensor([[ 1.5694, -1.3895]], grad_fn=<AddmmBackward0>)\n",
      "Logits of sentence 2: tensor([[ 0.9907, -0.9139]], grad_fn=<AddmmBackward0>)\n",
      "Logits of both sentences: tensor([[ 1.5694, -1.3895],\n",
      "        [ 0.9907, -0.9139]], grad_fn=<AddmmBackward0>)\n"
     ]
    }
   ],
   "source": [
    "# Create model from the checkpoint.\n",
    "model = AutoModelForSequenceClassification.from_pretrained(checkpoint)\n",
    "# Create sequence1_ids list with a list of 3 values: 200, 200, 200.\n",
    "sequence1_ids = [200, 200, 200]\n",
    "# Create sequence2_ids list with a list of 2 values: 200, 200.\n",
    "sequence2_ids = [200, 200]\n",
    "# Create batched_ids list with sequence1_ids, and sequence2_ids. sequence2_ids is padded with the padding_id.\n",
    "batched_ids = [sequence1_ids, sequence2_ids + [padding_id]]\n",
    "# Print logits of sentence 1 with the text: \"Logits of sentence 1: \".\n",
    "print(\"Logits of sentence 1:\", model(torch.tensor([batched_ids[0]])).logits)\n",
    "# Print logits of sentence 2 with the text: \"Logits of sentence 2: \".\n",
    "print(\"Logits of sentence 2:\", model(torch.tensor([batched_ids[1]])).logits)\n",
    "# Print logits of both sentences with the text: \"Logits of both sentences: \".\n",
    "print(\"Logits of both sentences:\", model(torch.tensor(batched_ids)).logits)"
   ]
  },
  {
   "attachments": {},
   "cell_type": "markdown",
   "metadata": {},
   "source": [
    "## Attention masks"
   ]
  },
  {
   "cell_type": "code",
   "execution_count": 7,
   "metadata": {
    "vscode": {
     "languageId": "python"
    }
   },
   "outputs": [
    {
     "name": "stdout",
     "output_type": "stream",
     "text": [
      "Logits: tensor([[ 1.5694, -1.3895],\n",
      "        [ 0.5803, -0.4125]], grad_fn=<AddmmBackward0>)\n"
     ]
    }
   ],
   "source": [
    "# Create batched_ids list with 2 list. The first list contains the value 200 repeated 3 times and the second list contains the value 200 repeated 2 times with the padding_id repeated 1 time.\n",
    "batched_ids = [[200] * 3, [200] * 2 + [padding_id]]\n",
    "# Crete attention_mask list with 2 lists. The first list contains the value 1 repeated 3 times and the second list contains the value 1 repeated 2 times and the value 0 repeated 1 time.\n",
    "attention_mask = [[1] * 3, [1] * 2 + [0]]\n",
    "# Create outputs from the model with batched_ids and attention_mask.\n",
    "outputs = model(torch.tensor(batched_ids), attention_mask=torch.tensor(attention_mask))\n",
    "# Print logits with the text: \"Logits: \".\n",
    "print(\"Logits:\", outputs.logits)\n"
   ]
  },
  {
   "cell_type": "code",
   "execution_count": null,
   "metadata": {
    "vscode": {
     "languageId": "python"
    }
   },
   "outputs": [],
   "source": []
  }
 ],
 "metadata": {
  "kernelspec": {
   "display_name": "Python 3 (ipykernel)",
   "language": "python",
   "name": "python3"
  },
  "orig_nbformat": 4
 },
 "nbformat": 4,
 "nbformat_minor": 2
}
