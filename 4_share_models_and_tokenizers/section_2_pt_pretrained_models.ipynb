{
 "cells": [
  {
   "attachments": {},
   "cell_type": "markdown",
   "metadata": {},
   "source": [
    "# Using pretrained models (PyTorch)"
   ]
  },
  {
   "attachments": {},
   "cell_type": "markdown",
   "metadata": {},
   "source": [
    "The explanation of this notebook is in the Hugging Face course, chapter 4, section 2: [Using pretrained models](https://huggingface.co/course/chapter4/2?fw=pt)\n",
    "\n",
    "The original code of this notebook is in the Hugging Face's SageMaker repository: [section2_pt.ipynb](https://studiolab.sagemaker.aws/import/github/huggingface/notebooks/blob/master/course/en/chapter4/section2_pt.ipynb)"
   ]
  },
  {
   "attachments": {},
   "cell_type": "markdown",
   "metadata": {},
   "source": [
    "## Run conditions"
   ]
  },
  {
   "attachments": {},
   "cell_type": "markdown",
   "metadata": {},
   "source": [
    "This notebook has been tested in the following environment:\n",
    "- Environment: Project created in [Paperspace Gradient](https://gradient.paperspace.com) with Python 3.9.13.\n",
    "- Machine: P5000 (30GiB RAM 8 CPU 16GiB GPU) (more details on [Paperspace Machines](https://docs.paperspace.com/gradient/machines/)).\n",
    "- IDE: Visual Studio Code using remote Jupyter server."
   ]
  },
  {
   "attachments": {},
   "cell_type": "markdown",
   "metadata": {},
   "source": [
    "## Install dependencies"
   ]
  },
  {
   "attachments": {},
   "cell_type": "markdown",
   "metadata": {},
   "source": [
    "Install the Transformers, Datasets, and Evaluate libraries to run this notebook."
   ]
  },
  {
   "cell_type": "code",
   "execution_count": 2,
   "metadata": {},
   "outputs": [
    {
     "name": "stdout",
     "output_type": "stream",
     "text": [
      "Note: you may need to restart the kernel to use updated packages.\n"
     ]
    }
   ],
   "source": [
    "# Install the libraries datasets v2.7.1, evaluate v0.3.0, and transformers v4.25.1 with quiet and upgrade flags.\n",
    "%pip install -q datasets==2.7.1 evaluate==0.3.0 transformers==4.25.1 --upgrade"
   ]
  },
  {
   "attachments": {},
   "cell_type": "markdown",
   "metadata": {},
   "source": [
    "## Using the pipeline() function"
   ]
  },
  {
   "cell_type": "code",
   "execution_count": 3,
   "metadata": {},
   "outputs": [
    {
     "name": "stderr",
     "output_type": "stream",
     "text": [
      "/Library/Frameworks/Python.framework/Versions/3.10/lib/python3.10/site-packages/tqdm/auto.py:22: TqdmWarning: IProgress not found. Please update jupyter and ipywidgets. See https://ipywidgets.readthedocs.io/en/stable/user_install.html\n",
      "  from .autonotebook import tqdm as notebook_tqdm\n",
      "Downloading: 100%|██████████| 508/508 [00:00<00:00, 146kB/s]\n",
      "Downloading: 100%|██████████| 445M/445M [00:12<00:00, 35.7MB/s] \n",
      "Downloading: 100%|██████████| 811k/811k [00:00<00:00, 1.34MB/s]\n",
      "Downloading: 100%|██████████| 1.40M/1.40M [00:00<00:00, 2.50MB/s]\n"
     ]
    },
    {
     "data": {
      "text/plain": [
       "[{'score': 0.1250426024198532,\n",
       "  'token': 4364,\n",
       "  'token_str': 'suisse',\n",
       "  'sequence': 'Le camembert est un fromage suisse.'},\n",
       " {'score': 0.08812045305967331,\n",
       "  'token': 430,\n",
       "  'token_str': 'français',\n",
       "  'sequence': 'Le camembert est un fromage français.'},\n",
       " {'score': 0.06494113802909851,\n",
       "  'token': 5060,\n",
       "  'token_str': 'traditionnel',\n",
       "  'sequence': 'Le camembert est un fromage traditionnel.'},\n",
       " {'score': 0.037365105003118515,\n",
       "  'token': 19456,\n",
       "  'token_str': 'fermier',\n",
       "  'sequence': 'Le camembert est un fromage fermier.'},\n",
       " {'score': 0.035099998116493225,\n",
       "  'token': 875,\n",
       "  'token_str': 'blanc',\n",
       "  'sequence': 'Le camembert est un fromage blanc.'}]"
      ]
     },
     "execution_count": 3,
     "metadata": {},
     "output_type": "execute_result"
    }
   ],
   "source": [
    "# Import pipeline from Transformers\n",
    "from transformers import pipeline\n",
    "\n",
    "# Create a pipeline for fill mask with Camembert model.\n",
    "fill_mask = pipeline(\n",
    "    \"fill-mask\",\n",
    "    model=\"camembert-base\"\n",
    ")\n",
    "# Fill the mask with a sentence.\n",
    "fill_mask(\"Le camembert est un fromage <mask>.\")\n"
   ]
  },
  {
   "cell_type": "code",
   "execution_count": 4,
   "metadata": {},
   "outputs": [],
   "source": [
    "# Import CamembertTokenizer and CamembertForMaskedLM from Transformers.\n",
    "from transformers import CamembertTokenizer, CamembertForMaskedLM\n",
    "\n",
    "# Load the tokenizer and the model.\n",
    "tokenizer = CamembertTokenizer.from_pretrained(\"camembert-base\")\n",
    "model = CamembertForMaskedLM.from_pretrained(\"camembert-base\")"
   ]
  },
  {
   "cell_type": "code",
   "execution_count": null,
   "metadata": {},
   "outputs": [],
   "source": []
  }
 ],
 "metadata": {
  "kernelspec": {
   "display_name": "Python 3",
   "language": "python",
   "name": "python3"
  },
  "language_info": {
   "codemirror_mode": {
    "name": "ipython",
    "version": 3
   },
   "file_extension": ".py",
   "mimetype": "text/x-python",
   "name": "python",
   "nbconvert_exporter": "python",
   "pygments_lexer": "ipython3",
   "version": "3.10.5"
  },
  "orig_nbformat": 4,
  "vscode": {
   "interpreter": {
    "hash": "aee8b7b246df8f9039afb4144a1f6fd8d2ca17a180786b69acc140d282b71a49"
   }
  }
 },
 "nbformat": 4,
 "nbformat_minor": 2
}
